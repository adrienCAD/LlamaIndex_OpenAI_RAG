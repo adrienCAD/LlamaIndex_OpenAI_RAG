{
 "cells": [
  {
   "cell_type": "markdown",
   "metadata": {},
   "source": [
    "From : https://www.geeksforgeeks.org/python-convert-speech-to-text-and-text-to-speech/"
   ]
  },
  {
   "cell_type": "code",
   "execution_count": 6,
   "metadata": {},
   "outputs": [],
   "source": [
    "# Python program to translate\n",
    "# speech to text and text to speech\n",
    "\n",
    "\n",
    "import speech_recognition as sr\n",
    "import pyttsx3\n",
    "\n",
    "# Initialize the recognizer\n",
    "r = sr.Recognizer()\n",
    "\n",
    "# Function to convert text to\n",
    "# speech\n",
    "def SpeakText(command):\n",
    "\n",
    "\t# Initialize the engine\n",
    "\tengine = pyttsx3.init()\n",
    "\tengine.say(command)\n",
    "\tengine.runAndWait()\n",
    "\n",
    "\n",
    "# Loop infinitely for user to\n",
    "# speak\n"
   ]
  },
  {
   "cell_type": "code",
   "execution_count": 9,
   "metadata": {},
   "outputs": [
    {
     "name": "stdout",
     "output_type": "stream",
     "text": [
      "unknown error occurred\n",
      "unknown error occurred\n",
      "unknown error occurred\n"
     ]
    }
   ],
   "source": [
    "while(1):\n",
    "\n",
    "\t# Exception handling to handle\n",
    "\t# exceptions at the runtime\n",
    "\ttry:\n",
    "\n",
    "\t\t# use the microphone as source for input.\n",
    "\t\twith sr.Microphone() as source2:\n",
    "\n",
    "\t\t\t# wait for a second to let the recognizer\n",
    "\t\t\t# adjust the energy threshold based on\n",
    "\t\t\t# the surrounding noise level\n",
    "\t\t\tr.adjust_for_ambient_noise(source2, duration=0.2)\n",
    "\n",
    "\t\t\t#listens for the user's input\n",
    "\t\t\taudio2 = r.listen(source2)\n",
    "\n",
    "\t\t\t# Using google to recognize audio\n",
    "\t\t\tMyText = r.recognize_google(audio2)\n",
    "\t\t\tMyText = MyText.lower()\n",
    "\n",
    "\t\t\tprint(\"Did you say \",MyText)\n",
    "\t\t\tSpeakText(MyText)\n",
    "\n",
    "\texcept sr.RequestError as e:\n",
    "\t\tprint(\"Could not request results; {0}\".format(e))\n",
    "\n",
    "\texcept sr.UnknownValueError:\n",
    "\t\tprint(\"unknown error occurred\")"
   ]
  }
 ],
 "metadata": {
  "kernelspec": {
   "display_name": "llama311",
   "language": "python",
   "name": "python3"
  },
  "language_info": {
   "codemirror_mode": {
    "name": "ipython",
    "version": 3
   },
   "file_extension": ".py",
   "mimetype": "text/x-python",
   "name": "python",
   "nbconvert_exporter": "python",
   "pygments_lexer": "ipython3",
   "version": "3.11.8"
  }
 },
 "nbformat": 4,
 "nbformat_minor": 2
}
